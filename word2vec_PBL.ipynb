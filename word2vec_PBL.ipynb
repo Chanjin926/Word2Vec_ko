{
  "cells": [
    {
      "cell_type": "markdown",
      "source": [
        "Setting the environment"
      ],
      "metadata": {
        "id": "NZ0FnpKBkVJx"
      },
      "id": "NZ0FnpKBkVJx"
    },
    {
      "cell_type": "markdown",
      "source": [
        "드라이브 마운트"
      ],
      "metadata": {
        "id": "kKnL-hsWjvEy"
      },
      "id": "kKnL-hsWjvEy"
    },
    {
      "cell_type": "code",
      "source": [
        "from google.colab import drive\n",
        "drive.mount('/content/drive')"
      ],
      "metadata": {
        "id": "ZX5mCTHtgWrW",
        "colab": {
          "base_uri": "https://localhost:8080/"
        },
        "outputId": "eda5d6a9-b741-4388-ba46-c9be970bdb56"
      },
      "id": "ZX5mCTHtgWrW",
      "execution_count": 8,
      "outputs": [
        {
          "output_type": "stream",
          "name": "stdout",
          "text": [
            "Mounted at /content/drive\n"
          ]
        }
      ]
    },
    {
      "cell_type": "markdown",
      "source": [
        "mecab 토크나이저 설치 및 필요 library import \\\\\n",
        "https://pypi.org/project/python-mecab-ko/"
      ],
      "metadata": {
        "id": "aXdOfunSjyfq"
      },
      "id": "aXdOfunSjyfq"
    },
    {
      "cell_type": "code",
      "source": [
        "!pip install python-mecab-ko"
      ],
      "metadata": {
        "colab": {
          "base_uri": "https://localhost:8080/"
        },
        "id": "Wqd6jCOXi665",
        "outputId": "694e1e35-ac56-48df-a2a4-e8abcb5db454"
      },
      "id": "Wqd6jCOXi665",
      "execution_count": 2,
      "outputs": [
        {
          "output_type": "stream",
          "name": "stdout",
          "text": [
            "Collecting python-mecab-ko\n",
            "  Downloading python_mecab_ko-1.3.3-cp310-cp310-manylinux_2_17_x86_64.manylinux2014_x86_64.whl (573 kB)\n",
            "\u001b[2K     \u001b[90m━━━━━━━━━━━━━━━━━━━━━━━━━━━━━━━━━━━━━━━━\u001b[0m \u001b[32m573.9/573.9 kB\u001b[0m \u001b[31m5.8 MB/s\u001b[0m eta \u001b[36m0:00:00\u001b[0m\n",
            "\u001b[?25hCollecting python-mecab-ko-dic (from python-mecab-ko)\n",
            "  Downloading python_mecab_ko_dic-2.1.1.post2-py3-none-any.whl (34.5 MB)\n",
            "\u001b[2K     \u001b[90m━━━━━━━━━━━━━━━━━━━━━━━━━━━━━━━━━━━━━━━━\u001b[0m \u001b[32m34.5/34.5 MB\u001b[0m \u001b[31m20.9 MB/s\u001b[0m eta \u001b[36m0:00:00\u001b[0m\n",
            "\u001b[?25hInstalling collected packages: python-mecab-ko-dic, python-mecab-ko\n",
            "Successfully installed python-mecab-ko-1.3.3 python-mecab-ko-dic-2.1.1.post2\n"
          ]
        }
      ]
    },
    {
      "cell_type": "code",
      "execution_count": 3,
      "id": "17b43b99",
      "metadata": {
        "id": "17b43b99"
      },
      "outputs": [],
      "source": [
        "import json\n",
        "import re\n",
        "from mecab import MeCab\n",
        "from gensim.models import Word2Vec\n",
        "from gensim.models.doc2vec import Doc2Vec, TaggedDocument\n",
        "\n",
        "mecab = MeCab()"
      ]
    },
    {
      "cell_type": "markdown",
      "source": [
        "MeCab pos 종류 \\\\\n",
        "http://openuiz.blogspot.com/2016/07/mecab-ko-dic.html"
      ],
      "metadata": {
        "id": "pNFEnrSdpp54"
      },
      "id": "pNFEnrSdpp54"
    },
    {
      "cell_type": "markdown",
      "source": [
        "word2vec 과제에서는 mecab.nouns 사용 예정 \\\\\n",
        "아래는 MeCab의 형태소 분류 예시이다."
      ],
      "metadata": {
        "id": "wsVCKmsypy8d"
      },
      "id": "wsVCKmsypy8d"
    },
    {
      "cell_type": "code",
      "source": [
        "mecab.pos(\"파이썬에는 참 다양한 라이브러리들이 있다. 너무 많아서 헷갈린다. 우와!\")"
      ],
      "metadata": {
        "colab": {
          "base_uri": "https://localhost:8080/"
        },
        "id": "92CRceUEnaay",
        "outputId": "d57e7fc9-9101-4a1e-fad9-b7925fabda34"
      },
      "id": "92CRceUEnaay",
      "execution_count": 5,
      "outputs": [
        {
          "output_type": "execute_result",
          "data": {
            "text/plain": [
              "[('파이썬', 'NNP'),\n",
              " ('에', 'JKB'),\n",
              " ('는', 'JX'),\n",
              " ('참', 'MAG'),\n",
              " ('다양', 'XR'),\n",
              " ('한', 'XSA+ETM'),\n",
              " ('라이브러리', 'NNG'),\n",
              " ('들', 'XSN'),\n",
              " ('이', 'JKS'),\n",
              " ('있', 'VA'),\n",
              " ('다', 'EF'),\n",
              " ('.', 'SF'),\n",
              " ('너무', 'MAG'),\n",
              " ('많', 'VA'),\n",
              " ('아서', 'EC'),\n",
              " ('헷갈린다', 'VV+EF'),\n",
              " ('.', 'SF'),\n",
              " ('우와', 'IC'),\n",
              " ('!', 'SF')]"
            ]
          },
          "metadata": {},
          "execution_count": 5
        }
      ]
    },
    {
      "cell_type": "markdown",
      "source": [
        "Defining needed functions (+ testing)"
      ],
      "metadata": {
        "id": "cCtuYNAskkbP"
      },
      "id": "cCtuYNAskkbP"
    },
    {
      "cell_type": "code",
      "source": [
        "# JSON 파일 로드\n",
        "def load_data(json_file_path):\n",
        "  try:\n",
        "    with open(json_file_path, 'r', encoding='utf-8') as file:\n",
        "        data = json.load(file)\n",
        "    return data\n",
        "  except: pass"
      ],
      "metadata": {
        "id": "6dJWDEeyg1zq"
      },
      "id": "6dJWDEeyg1zq",
      "execution_count": 4,
      "outputs": []
    },
    {
      "cell_type": "markdown",
      "source": [
        "Tokenizing"
      ],
      "metadata": {
        "id": "x30WUUYHs4u8"
      },
      "id": "x30WUUYHs4u8"
    },
    {
      "cell_type": "code",
      "source": [
        "sentence = \"파이썬에는 참 다양한 라이브러리들이 있다. 너무 많아서 헷갈린다. 우와!\""
      ],
      "metadata": {
        "id": "FgnpZ4nz34Bx"
      },
      "id": "FgnpZ4nz34Bx",
      "execution_count": 5,
      "outputs": []
    },
    {
      "cell_type": "code",
      "source": [
        "tokens = mecab.nouns(sentence)\n",
        "tokens"
      ],
      "metadata": {
        "colab": {
          "base_uri": "https://localhost:8080/"
        },
        "id": "cFQ0ZkMj3Vm0",
        "outputId": "f8561edf-b22e-4fc6-dcf0-0dc4c36d1258"
      },
      "id": "cFQ0ZkMj3Vm0",
      "execution_count": 6,
      "outputs": [
        {
          "output_type": "execute_result",
          "data": {
            "text/plain": [
              "['파이썬', '라이브러리']"
            ]
          },
          "metadata": {},
          "execution_count": 6
        }
      ]
    },
    {
      "cell_type": "markdown",
      "source": [
        "json 파일에서 tokenize function 만들기"
      ],
      "metadata": {
        "id": "mL-gxij2sO3t"
      },
      "id": "mL-gxij2sO3t"
    },
    {
      "cell_type": "code",
      "source": [
        "data = load_data('./drive/MyDrive/Word2Vec_PBL/NIKL_SPOKEN/SARW1800000001.json')\n",
        "\n",
        "forms = [utterance['form'] for entry in data['document'] for utterance in entry['utterance']]\n",
        "for i in range(20):\n",
        "  print(forms[i])"
      ],
      "metadata": {
        "colab": {
          "base_uri": "https://localhost:8080/"
        },
        "id": "6D8iG6WFeV_t",
        "outputId": "b18aec73-bbb0-41ea-c1dd-f102b33314c0"
      },
      "id": "6D8iG6WFeV_t",
      "execution_count": 10,
      "outputs": [
        {
          "output_type": "stream",
          "name": "stdout",
          "text": [
            "요즘처럼 추운 날씨에는\n",
            "따뜻한 라테 한잔 찾는 분들\n",
            "많으실 텐데요.\n",
            "라테 위에 그려진\n",
            "다양한 라테 아트를 구경하는 것도\n",
            "또 다른 재미입니다.\n",
            "그런데 최근에는\n",
            "라테아트를 넘어\n",
            "차가운 커피 위에\n",
            "색색의 크림으로\n",
            "그림을 그리는\n",
            "크리마트가 인기라고 하는데요\n",
            "이 크리마트를 개발한 바리스타 청년을\n",
            "오늘 꿈을 잡아라에서 소개합니다.\n",
            "커피 중에서도\n",
            "부드러운 라테는\n",
            "우유와의 궁합을 자랑하는\n",
            "대표적 겨울 음룐데요\n",
            "특히 라테 위에 그려지는\n",
            "라테아트는 눈으로 먼저\n"
          ]
        }
      ]
    },
    {
      "cell_type": "code",
      "source": [
        "def filter_tokens(data):\n",
        "  tokenized_sentence = []\n",
        "  text_list = [utterance['form'] for entry in data['document'] for utterance in entry['utterance']]\n",
        "  for item in text_list:\n",
        "    # 괄호에 포함된 내용 제거\n",
        "    sentence = re.sub(r'\\([^)]*\\)', '', item)\n",
        "\n",
        "    tokenized_sentence.append(mecab.nouns(sentence))\n",
        "\n",
        "  return tokenized_sentence"
      ],
      "metadata": {
        "id": "QvJH9lhg1O7g"
      },
      "id": "QvJH9lhg1O7g",
      "execution_count": 11,
      "outputs": []
    },
    {
      "cell_type": "code",
      "source": [
        "filtered = filter_tokens(data)\n",
        "texts_and_tags = [(text, [f\"str_{i}\",]) for i, text in enumerate(filtered)]\n",
        "\n",
        "print(filtered[:5])\n",
        "texts_and_tags[:6]\n",
        "\n"
      ],
      "metadata": {
        "colab": {
          "base_uri": "https://localhost:8080/"
        },
        "id": "EtXceivkaRXA",
        "outputId": "1e19a1e3-b015-4ea2-cc1b-90f0ef0ea45e"
      },
      "id": "EtXceivkaRXA",
      "execution_count": 19,
      "outputs": [
        {
          "output_type": "stream",
          "name": "stdout",
          "text": [
            "[['요즘', '날씨'], ['라테', '한잔', '분'], ['텐데요'], ['라테', '위'], ['라테', '아트', '구경', '것']]\n"
          ]
        },
        {
          "output_type": "execute_result",
          "data": {
            "text/plain": [
              "[(['요즘', '날씨'], ['str_0']),\n",
              " (['라테', '한잔', '분'], ['str_1']),\n",
              " (['텐데요'], ['str_2']),\n",
              " (['라테', '위'], ['str_3']),\n",
              " (['라테', '아트', '구경', '것'], ['str_4']),\n",
              " (['재미'], ['str_5'])]"
            ]
          },
          "metadata": {},
          "execution_count": 19
        }
      ]
    },
    {
      "cell_type": "code",
      "source": [
        "TRAIN_documents = [TaggedDocument(words=text, tags=tags) for text, tags in texts_and_tags]\n",
        "TRAIN_documents[:5]"
      ],
      "metadata": {
        "colab": {
          "base_uri": "https://localhost:8080/"
        },
        "id": "R7Q_lr0oLc_K",
        "outputId": "13a9d530-1ffe-4577-8afe-efff25caa5f9"
      },
      "id": "R7Q_lr0oLc_K",
      "execution_count": 22,
      "outputs": [
        {
          "output_type": "execute_result",
          "data": {
            "text/plain": [
              "[TaggedDocument(words=['요즘', '날씨'], tags=['str_0']),\n",
              " TaggedDocument(words=['라테', '한잔', '분'], tags=['str_1']),\n",
              " TaggedDocument(words=['텐데요'], tags=['str_2']),\n",
              " TaggedDocument(words=['라테', '위'], tags=['str_3']),\n",
              " TaggedDocument(words=['라테', '아트', '구경', '것'], tags=['str_4'])]"
            ]
          },
          "metadata": {},
          "execution_count": 22
        }
      ]
    },
    {
      "cell_type": "code",
      "source": [
        "# 하나의 list로 data 준비\n",
        "processed_data = []\n",
        "\n",
        "# 폴더 내에서 파일 간의 tokenize를 진행\n",
        "def cir_execute(file_paths):\n",
        "  for file_path in file_paths:\n",
        "    data = load_data(file_path)\n",
        "    for item_list in filter_tokens(data):\n",
        "      processed_data.append(item_list)"
      ],
      "metadata": {
        "id": "DKLMgFvQZ-Hd"
      },
      "id": "DKLMgFvQZ-Hd",
      "execution_count": 27,
      "outputs": []
    },
    {
      "cell_type": "code",
      "source": [
        "import os\n",
        "\n",
        "def get_file_names(folder_path):\n",
        "  file_names = []\n",
        "  for filename in os.listdir(folder_path):\n",
        "    if os.path.isfile(os.path.join(folder_path, filename)) and filename.endswith('.json'):\n",
        "      name = './drive/MyDrive/Word2Vec_PBL/NIKL_SPOKEN/' + filename\n",
        "      file_names.append(name)\n",
        "  return file_names\n",
        "\n",
        "folder_path = './drive/MyDrive/Word2Vec_PBL/NIKL_SPOKEN'\n",
        "file_names = get_file_names(folder_path)"
      ],
      "metadata": {
        "id": "nmi2YZRyUED-"
      },
      "id": "nmi2YZRyUED-",
      "execution_count": 28,
      "outputs": []
    },
    {
      "cell_type": "code",
      "source": [
        "for i in range(3):\n",
        "  print(file_names[i])\n",
        "\n",
        "print(len(file_names))"
      ],
      "metadata": {
        "colab": {
          "base_uri": "https://localhost:8080/"
        },
        "id": "dJIwxP_xdUb-",
        "outputId": "393524ab-30c1-47d5-f945-d122efabb812"
      },
      "id": "dJIwxP_xdUb-",
      "execution_count": 29,
      "outputs": [
        {
          "output_type": "stream",
          "name": "stdout",
          "text": [
            "./drive/MyDrive/Word2Vec_PBL/NIKL_SPOKEN/SERW1900007025.json\n",
            "./drive/MyDrive/Word2Vec_PBL/NIKL_SPOKEN/SERW1900007036.json\n",
            "./drive/MyDrive/Word2Vec_PBL/NIKL_SPOKEN/SERW1900019020.json\n",
            "23520\n"
          ]
        }
      ]
    },
    {
      "cell_type": "code",
      "source": [
        "# list 초기화\n",
        "processed_data = []\n",
        "\n",
        "cir_execute(file_names)"
      ],
      "metadata": {
        "id": "UtfjEJ0TTh5N"
      },
      "id": "UtfjEJ0TTh5N",
      "execution_count": null,
      "outputs": []
    },
    {
      "cell_type": "code",
      "source": [
        "texts_and_tags = [(text, [f\"str_{i}\",]) for i, text in enumerate(processed_data)]\n",
        "TRAIN_documents = [TaggedDocument(words=text, tags=tags) for text, tags in texts_and_tags]"
      ],
      "metadata": {
        "id": "iH346hAqOYnX"
      },
      "id": "iH346hAqOYnX",
      "execution_count": null,
      "outputs": []
    },
    {
      "cell_type": "code",
      "source": [
        "print(len(processed_data))\n",
        "print(len(TRAIN_documents))"
      ],
      "metadata": {
        "id": "i2fi3Do_fv9A",
        "colab": {
          "base_uri": "https://localhost:8080/"
        },
        "outputId": "d34ef0c7-b2ac-4293-da1d-8ace60e6bc98"
      },
      "id": "i2fi3Do_fv9A",
      "execution_count": null,
      "outputs": [
        {
          "output_type": "stream",
          "name": "stdout",
          "text": [
            "23520\n",
            "19725451\n"
          ]
        }
      ]
    },
    {
      "cell_type": "markdown",
      "id": "6720b71b",
      "metadata": {
        "id": "6720b71b"
      },
      "source": [
        "Word2Vec_DBOW"
      ]
    },
    {
      "cell_type": "code",
      "source": [
        "model_dbow = Doc2Vec(TRAIN_documents, vector_size=100, window=5, min_count=0, workers=4)\n",
        "\n",
        "model_dbow.save(\"./drive/MyDrive/Word2Vec_PBL/w2v_dbow\")"
      ],
      "metadata": {
        "id": "FtN37HYDtZ2W"
      },
      "id": "FtN37HYDtZ2W",
      "execution_count": null,
      "outputs": []
    },
    {
      "cell_type": "markdown",
      "source": [
        "Word2Vec_skip-gram"
      ],
      "metadata": {
        "id": "7W_ixJnO1em3"
      },
      "id": "7W_ixJnO1em3"
    },
    {
      "cell_type": "code",
      "source": [
        "model_skg = Word2Vec(sentences=processed_data, vector_size=100, window=5, min_count=1, workers=4, sg=1)\n",
        "\n",
        "model_skg.save(\"./drive/MyDrive/Word2Vec_PBL/w2v_skp-grm\")"
      ],
      "metadata": {
        "id": "Tf34fvI-1dYi"
      },
      "id": "Tf34fvI-1dYi",
      "execution_count": null,
      "outputs": []
    },
    {
      "cell_type": "markdown",
      "source": [
        "**Model Test**"
      ],
      "metadata": {
        "id": "MbxYp-rhl287"
      },
      "id": "MbxYp-rhl287"
    },
    {
      "cell_type": "markdown",
      "source": [
        "CBOW model"
      ],
      "metadata": {
        "id": "r-eQ2yq5csEC"
      },
      "id": "r-eQ2yq5csEC"
    },
    {
      "cell_type": "code",
      "source": [
        "model1_result_1 = model_dbow.wv.most_similar(\"뉴스\", topn=5)\n",
        "model1_result_2 = model_dbow.wv.most_similar(\"라테\", topn=5)\n",
        "\n",
        "print(\"뉴스에 대한 결과: \", model1_result_1)\n",
        "print(\"라테에 대한 결과: \", model1_result_2)"
      ],
      "metadata": {
        "id": "J3W50WSVlLJB",
        "colab": {
          "base_uri": "https://localhost:8080/"
        },
        "outputId": "3456c605-de4e-4d8c-8338-52b8541c0198"
      },
      "id": "J3W50WSVlLJB",
      "execution_count": null,
      "outputs": [
        {
          "output_type": "stream",
          "name": "stdout",
          "text": [
            "뉴스에 대한 결과:  [('뉴습니다', 0.6285055875778198), ('뉴슨', 0.6230104565620422), ('헤드라인', 0.5879701375961304), ('이슈', 0.5734034776687622), ('가짜', 0.5141790509223938)]\n",
            "라테에 대한 결과:  [('라떼', 0.8675056099891663), ('홀스', 0.8103483319282532), ('모카', 0.8096928000450134), ('카푸치노', 0.7850455045700073), ('푸치노', 0.7770894169807434)]\n"
          ]
        }
      ]
    },
    {
      "cell_type": "markdown",
      "source": [
        "Skip-gram model"
      ],
      "metadata": {
        "id": "gMLiRygPcu-h"
      },
      "id": "gMLiRygPcu-h"
    },
    {
      "cell_type": "code",
      "source": [
        "model2_result_1 = model_skg.wv.most_similar(\"뉴스\", topn=5)\n",
        "model2_result_2 = model_skg.wv.most_similar(\"라테\", topn=5)\n",
        "\n",
        "print(\"뉴스에 대한 결과: \", model2_result_1)\n",
        "print(\"라테에 대한 결과: \", model2_result_2)"
      ],
      "metadata": {
        "id": "5aXVIhz_fOjd",
        "colab": {
          "base_uri": "https://localhost:8080/"
        },
        "outputId": "cd337ddf-e98f-4bf6-e669-979e59e97fa4"
      },
      "id": "5aXVIhz_fOjd",
      "execution_count": null,
      "outputs": [
        {
          "output_type": "stream",
          "name": "stdout",
          "text": [
            "뉴스에 대한 결과:  [('뉴습니다', 0.7894576787948608), ('뉴슨', 0.7758339047431946), ('차미연', 0.7615022659301758), ('이덕영', 0.7036344408988953), ('남효정', 0.6920825242996216)]\n",
            "라테에 대한 결과:  [('푸치노', 0.8421300649642944), ('라떼', 0.8400842547416687), ('휘핑크림', 0.8169915676116943), ('홀스', 0.8155151605606079), ('얼티밋', 0.8081234693527222)]\n"
          ]
        }
      ]
    },
    {
      "cell_type": "code",
      "source": [
        "loaded_dbow = Doc2Vec.load(\"./drive/MyDrive/Word2Vec_PBL/w2v_dbow\")\n",
        "loaded_skg = Word2Vec.load(\"./drive/MyDrive/Word2Vec_PBL/w2v_skp-grm\")"
      ],
      "metadata": {
        "id": "j4gn9JAwP3Uz"
      },
      "id": "j4gn9JAwP3Uz",
      "execution_count": null,
      "outputs": []
    },
    {
      "cell_type": "code",
      "source": [
        "!python -m gensim.scripts.word2vec2tensor --input loaded_dbow --output loaded_dbow\n",
        "!python -m gensim.scripts.word2vec2tensor --input loaded_skg --output loaded_skg"
      ],
      "metadata": {
        "id": "kMB045TnPxck"
      },
      "id": "kMB045TnPxck",
      "execution_count": null,
      "outputs": []
    }
  ],
  "metadata": {
    "kernelspec": {
      "display_name": "Python 3",
      "name": "python3"
    },
    "language_info": {
      "codemirror_mode": {
        "name": "ipython",
        "version": 3
      },
      "file_extension": ".py",
      "mimetype": "text/x-python",
      "name": "python",
      "nbconvert_exporter": "python",
      "pygments_lexer": "ipython3",
      "version": "3.8.18"
    },
    "colab": {
      "provenance": [],
      "gpuType": "T4"
    },
    "accelerator": "GPU"
  },
  "nbformat": 4,
  "nbformat_minor": 5
}